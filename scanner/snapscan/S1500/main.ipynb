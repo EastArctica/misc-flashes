{
 "cells": [
  {
   "cell_type": "code",
   "execution_count": 7,
   "id": "a12a0737",
   "metadata": {},
   "outputs": [],
   "source": [
    "import serial\n",
    "import time\n"
   ]
  },
  {
   "cell_type": "code",
   "execution_count": 24,
   "id": "faab4370",
   "metadata": {},
   "outputs": [
    {
     "name": "stdout",
     "output_type": "stream",
     "text": [
      "Connected to COM11\n"
     ]
    }
   ],
   "source": [
    "ser = serial.Serial('COM11', 19200, 8, \"N\", 1)\n",
    "print('Connected to ' + (ser.name or \"Unknown\"))"
   ]
  },
  {
   "cell_type": "code",
   "execution_count": 29,
   "id": "12fdc2fc",
   "metadata": {},
   "outputs": [],
   "source": [
    "ser.close()"
   ]
  },
  {
   "cell_type": "code",
   "execution_count": 28,
   "id": "23c56b98",
   "metadata": {},
   "outputs": [
    {
     "name": "stdout",
     "output_type": "stream",
     "text": [
      "Got response\n",
      "b'\\x00'\n"
     ]
    },
    {
     "data": {
      "text/plain": [
       "1"
      ]
     },
     "execution_count": 28,
     "metadata": {},
     "output_type": "execute_result"
    }
   ],
   "source": [
    "while (ser.in_waiting == 0):\n",
    "    ser.write(b'\\x00')\n",
    "    time.sleep(0.02)\n",
    "byte = ser.read(1)\n",
    "print(\"Got response\")\n",
    "print(byte)\n",
    "if byte != b'\\x00':\n",
    "    print(\"Invalid response\")\n",
    "    print(byte)\n",
    "\n",
    "ser.write(b'\\x55')\n",
    "\n"
   ]
  }
 ],
 "metadata": {
  "kernelspec": {
   "display_name": ".venv",
   "language": "python",
   "name": "python3"
  },
  "language_info": {
   "codemirror_mode": {
    "name": "ipython",
    "version": 3
   },
   "file_extension": ".py",
   "mimetype": "text/x-python",
   "name": "python",
   "nbconvert_exporter": "python",
   "pygments_lexer": "ipython3",
   "version": "3.11.11"
  }
 },
 "nbformat": 4,
 "nbformat_minor": 5
}
